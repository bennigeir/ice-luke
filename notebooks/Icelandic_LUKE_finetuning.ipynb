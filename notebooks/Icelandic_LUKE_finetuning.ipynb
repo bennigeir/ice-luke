{
  "nbformat": 4,
  "nbformat_minor": 0,
  "metadata": {
    "colab": {
      "name": "Icelandic-LUKE-finetuning.ipynb",
      "provenance": [],
      "collapsed_sections": [],
      "toc_visible": true
    },
    "kernelspec": {
      "name": "python3",
      "display_name": "Python 3"
    },
    "language_info": {
      "name": "python"
    }
  },
  "cells": [
    {
      "cell_type": "markdown",
      "source": [
        "# **Fine-tuning of Icelandic version of LUKE**\n",
        "\n",
        "Largely based on code available at https://github.com/studio-ousia/luke"
      ],
      "metadata": {
        "id": "THg_HMlv4SSA"
      }
    },
    {
      "cell_type": "markdown",
      "source": [
        "\n",
        "\n",
        "---\n",
        "\n",
        "\n",
        "##**Requirements**"
      ],
      "metadata": {
        "id": "CbeQCubNYYXF"
      }
    },
    {
      "cell_type": "markdown",
      "source": [
        "###Install requirements"
      ],
      "metadata": {
        "id": "1g2QO4JT5BIP"
      }
    },
    {
      "cell_type": "code",
      "source": [
        "# Insert the path to where you cloned the LUKE github repository.\n",
        "%cd /content/drive/MyDrive/ice-luke/\n",
        "!pip install -r requirements.txt"
      ],
      "metadata": {
        "id": "TkXNI0yRT-IQ"
      },
      "execution_count": null,
      "outputs": []
    },
    {
      "cell_type": "markdown",
      "source": [
        "### Install apex\n",
        "\n",
        "Note: this might take some time to install. If apex has already been downloaded it is sufficient to just copy the files to relevant locations."
      ],
      "metadata": {
        "id": "8lOgQSR3T-XV"
      }
    },
    {
      "cell_type": "code",
      "source": [
        "path = './apex/apex/'\n",
        "\n",
        "if not os.path.isdir(path):\n",
        "  !git clone https://github.com/NVIDIA/apex.git\n",
        "  !cd apex\n",
        "  !git checkout c3fad1ad120b23055f6630da0b029c8b626db78f\n",
        "  !pip install -v --no-cache-dir --global-option=\"--cpp_ext\" --global-option=\"--cuda_ext\" .\n",
        "\n",
        "!cp -r apex/apex/ /usr/local/lib/python3.7/dist-packages/\n",
        "!cp -r apex/apex/ /usr/local/lib/python3.7/site-packages/"
      ],
      "metadata": {
        "id": "xAHuRr2gT-on"
      },
      "execution_count": null,
      "outputs": []
    },
    {
      "cell_type": "markdown",
      "source": [
        "###Check if cuda and apex are available"
      ],
      "metadata": {
        "id": "khchwMtDUG1i"
      }
    },
    {
      "cell_type": "code",
      "source": [
        "import torch\n",
        "from apex import amp\n",
        "\n",
        "print(torch.cuda.is_available())"
      ],
      "metadata": {
        "id": "vb-9KLXxUIiX"
      },
      "execution_count": null,
      "outputs": []
    },
    {
      "cell_type": "markdown",
      "source": [
        "**need something to make tsv file !**"
      ],
      "metadata": {
        "id": "RCzup2ROUPya"
      }
    },
    {
      "cell_type": "markdown",
      "source": [
        "\n",
        "\n",
        "---\n",
        "\n",
        "\n",
        "##**Fine-tuning for NER**\n",
        "\n",
        "\n",
        "Using [MÍM-GOLD-NER](https://repository.clarin.is/repository/xmlui/handle/20.500.12537/42)"
      ],
      "metadata": {
        "id": "hDt4WWjVUTJ3"
      }
    },
    {
      "cell_type": "markdown",
      "source": [
        "###Fine-tuning options"
      ],
      "metadata": {
        "id": "0VCjT1AyXGZ8"
      }
    },
    {
      "cell_type": "markdown",
      "source": [
        "```\n",
        "Options:\n",
        "  --checkpoint-file PATH\n",
        "  --data-dir PATH\n",
        "  --do-train / --no-train\n",
        "  --do-eval / --no-eval\n",
        "  --eval-batch-size INTEGER\n",
        "  --max-entity-length INTEGER\n",
        "  --max-mention-length INTEGER\n",
        "  --max-seq-length INTEGER\n",
        "  --no-entity-feature\n",
        "  --no-word-feature\n",
        "  --train-batch-size INTEGER\n",
        "  --num-train-epochs FLOAT\n",
        "  --seed INTEGER\n",
        "  --train-on-dev-set\n",
        "  --learning-rate FLOAT\n",
        "  --lr-schedule [warmup_linear|warmup_constant]\n",
        "  --weight-decay FLOAT\n",
        "  --max-grad-norm FLOAT\n",
        "  --adam-b1 FLOAT\n",
        "  --adam-b2 FLOAT\n",
        "  --adam-eps FLOAT\n",
        "  --adam-correct-bias\n",
        "  --warmup-proportion FLOAT\n",
        "  --gradient-accumulation-steps INTEGER\n",
        "  --fp16\n",
        "  --fp16-opt-level TEXT\n",
        "  --fp16-min-loss-scale INTEGER\n",
        "  --fp16-max-loss-scale INTEGER\n",
        "  --save-steps INTEGER\n",
        "  --help                          Show this message and exit.\n",
        "```"
      ],
      "metadata": {
        "id": "HvBQS7WqXPFM"
      }
    },
    {
      "cell_type": "markdown",
      "source": [
        "###Fine-tuning"
      ],
      "metadata": {
        "id": "SqGDJ51oXYdq"
      }
    },
    {
      "cell_type": "code",
      "source": [
        "!python -m examples.cli ner run \\\n",
        "--model-file=./luke-icebert-base-300/ \\\n",
        "--output-dir=output/luke-icebert-base-300 \\\n",
        "--data-dir=mim-gold-ner \\\n",
        "--train-batch-size=8 \\\n",
        "--learning-rate=5e-5 \\\n",
        "--num-train-epochs=10 \\\n",
        "--fp16"
      ],
      "metadata": {
        "id": "e2M-dmliUXJp"
      },
      "execution_count": null,
      "outputs": []
    },
    {
      "cell_type": "markdown",
      "source": [
        "#### Results\n",
        "\n",
        "```\n",
        "Eval: 100% 309/309 [03:05<00:00,  1.66it/s]\n",
        "              precision    recall  f1-score   support\n",
        "         LOC     0.8958    0.8972    0.8965       671\n",
        "        MISC     0.7109    0.6930    0.7018       557\n",
        "         ORG     0.8224    0.6832    0.7464       786\n",
        "         PER     0.9446    0.8416    0.8901      1540\n",
        "\n",
        "   micro avg     0.8707    0.7938    0.8304      3554\n",
        "   macro avg     0.8434    0.7787    0.8087      3554\n",
        "weighted avg     0.8717    0.7938    0.8300      3554\n",
        "\n",
        "Results: {\n",
        "  \"dev_f1\": 0.8599,\n",
        "  \"dev_precision\": 0.8802,\n",
        "  \"dev_recall\": 0.8405,\n",
        "  \"test_f1\": 0.8304,\n",
        "  \"test_precision\": 0.8706,\n",
        "  \"test_recall\": 0.7937\n",
        "}\n",
        "```"
      ],
      "metadata": {
        "id": "nUUYCjtLwWdP"
      }
    },
    {
      "cell_type": "markdown",
      "source": [
        "\n",
        "\n",
        "---\n",
        "\n",
        "\n",
        "##**Fine-tuning for ED**\n",
        "\n",
        "Using [MÍM-GOLD-EL](https://repository.clarin.is/repository/xmlui/handle/20.500.12537/168)"
      ],
      "metadata": {
        "id": "hbufdjz_Vmei"
      }
    },
    {
      "cell_type": "markdown",
      "source": [
        "###Fine-tuning options"
      ],
      "metadata": {
        "id": "ZrmZJsFhXcSQ"
      }
    },
    {
      "cell_type": "markdown",
      "source": [
        "```\n",
        "Options:\n",
        "  --data-dir PATH\n",
        "  -t, --test-set TEXT\n",
        "  --do-train / --no-train\n",
        "  --do-eval / --no-eval\n",
        "  --num-train-epochs INTEGER\n",
        "  --train-batch-size INTEGER\n",
        "  --max-seq-length INTEGER\n",
        "  --max-candidate-length INTEGER\n",
        "  --masked-entity-prob FLOAT\n",
        "  --use-context-entities / --no-context-entities\n",
        "  --context-entity-selection-order [natural|random|highest_prob]\n",
        "  --document-split-mode [simple|per_mention]\n",
        "  --fix-entity-emb / --update-entity-emb\n",
        "  --fix-entity-bias / --update-entity-bias\n",
        "  --seed INTEGER\n",
        "  --learning-rate FLOAT\n",
        "  --lr-schedule [warmup_linear|warmup_constant]\n",
        "  --weight-decay FLOAT\n",
        "  --max-grad-norm FLOAT\n",
        "  --adam-b1 FLOAT\n",
        "  --adam-b2 FLOAT\n",
        "  --adam-eps FLOAT\n",
        "  --adam-correct-bias\n",
        "  --warmup-proportion FLOAT\n",
        "  --gradient-accumulation-steps INTEGER\n",
        "  --fp16\n",
        "  --fp16-opt-level TEXT\n",
        "  --fp16-min-loss-scale INTEGER\n",
        "  --fp16-max-loss-scale INTEGER\n",
        "  --save-steps INTEGER\n",
        "  --help                          Show this message and exit.\n",
        "```"
      ],
      "metadata": {
        "id": "N2XJJM1YXeFf"
      }
    },
    {
      "cell_type": "markdown",
      "source": [
        "###Fine-tuning"
      ],
      "metadata": {
        "id": "AWwpJrDMXeT9"
      }
    },
    {
      "cell_type": "code",
      "source": [
        "!python -m examples.cli entity-disambiguation run \\\n",
        "--model-file=./ed-luke-icebert-base-300/ \\\n",
        "--data-dir=output/ed-luke-icebert-base-300 \\\n",
        "--num-train-epochs=2 \\\n",
        "--train-batch-size=6 \\\n",
        "--learning-rate=2e-5 \\\n",
        "--lr-schedule='warmup_linear' \\\n",
        "--warmup-proportion=0.1 \\\n",
        "--weight-decay=0.01 \\\n",
        "--adam-b1=0.9 \\\n",
        "--adam-b2=0.999 \\\n",
        "--adam-eps=1e-6 \\\n",
        "--do-train \\\n",
        "--do-eval \\\n",
        "--fp16"
      ],
      "metadata": {
        "id": "XmT0PWOZVqlk"
      },
      "execution_count": null,
      "outputs": []
    },
    {
      "cell_type": "markdown",
      "source": [
        "#### Results\n",
        "\n",
        "```\n",
        "***** Dataset: test_b *****\n",
        "F1: 0.88370\n",
        "Precision: 0.88370\n",
        "Recall: 0.88370\n",
        "```"
      ],
      "metadata": {
        "id": "Ax3PQPDjwkgU"
      }
    }
  ]
}